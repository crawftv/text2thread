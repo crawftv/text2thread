{
 "cells": [
  {
   "cell_type": "code",
   "execution_count": 1,
   "metadata": {},
   "outputs": [],
   "source": [
    "import gensim"
   ]
  },
  {
   "cell_type": "code",
   "execution_count": 2,
   "metadata": {},
   "outputs": [],
   "source": [
    "with open(\"ceasar.txt\",encoding=\"utf-8\") as file:\n",
    "    l = file.read()"
   ]
  },
  {
   "cell_type": "code",
   "execution_count": 3,
   "metadata": {},
   "outputs": [],
   "source": [
    "# import logging\n",
    "# logging.basicConfig(format='%(asctime)s : %(levelname)s : %(message)s', level=logging.INFO)"
   ]
  },
  {
   "cell_type": "code",
   "execution_count": null,
   "metadata": {},
   "outputs": [],
   "source": []
  },
  {
   "cell_type": "code",
   "execution_count": 4,
   "metadata": {},
   "outputs": [],
   "source": [
    "from typing import List\n",
    "from dataclasses import dataclass, asdict\n",
    "import uuid\n",
    "@dataclass\n",
    "class Paragraph:\n",
    "    pre_cleaned_words: List[str]\n",
    "    tags: List[int]\n",
    "    depth :int = 0\n",
    "    prev = None\n",
    "    next_=None\n",
    "    \n",
    "#     @property\n",
    "#     def words(self):\n",
    "        "
   ]
  },
  {
   "cell_type": "code",
   "execution_count": 5,
   "metadata": {},
   "outputs": [],
   "source": [
    "import re\n",
    "def create_corpus(filename):\n",
    "    with open(filename,encoding=\"utf-8\") as file:\n",
    "        l = file.read()\n",
    "    text1 = [i.replace(\"\\n\",\" \") for i in l.split(\"\\n\\n\") ]\n",
    "    text2 = [re.sub(r'\\[(.*?)\\]',\"\",i) for i in text1]\n",
    "    text3 = [\n",
    "    Paragraph(text.split(\" \"),[uuid.uuid1().hex]) \n",
    "    for index,text in enumerate(text2) \n",
    "    if( text != \" \" and text != \"\" and text.upper() !=text) \n",
    "    ]\n",
    "    return text3"
   ]
  },
  {
   "cell_type": "code",
   "execution_count": 6,
   "metadata": {},
   "outputs": [],
   "source": [
    "train_corpus = create_corpus(\"ceasar.txt\")\n",
    "test_corpus= create_corpus(\"ceasar_test.txt\")"
   ]
  },
  {
   "cell_type": "markdown",
   "metadata": {},
   "source": [
    "# Clean up text\n",
    "1. ~Vocab limited to 10_000~\n",
    "    - normally 60_000 but text only has 14_000 words\n",
    "    - vocab limited to all words that appear at least twice\n",
    "2. separate contractions\n",
    "3. ~lowercase with uppercase markers~\n",
    "4. ~mark end up sentences and remove periods, commas~\n",
    "5. padding for beginning sentences"
   ]
  },
  {
   "cell_type": "code",
   "execution_count": 10,
   "metadata": {},
   "outputs": [],
   "source": [
    "from collections import Counter\n",
    "vocab = Counter()"
   ]
  },
  {
   "cell_type": "code",
   "execution_count": 11,
   "metadata": {},
   "outputs": [],
   "source": [
    "for paragraph in train_corpus:\n",
    "    vocab.update([ word.lower() for word in paragraph.pre_cleaned_words] )       "
   ]
  },
  {
   "cell_type": "code",
   "execution_count": 12,
   "metadata": {},
   "outputs": [],
   "source": [
    "vocab_len = len(list(vocab.elements()))"
   ]
  },
  {
   "cell_type": "code",
   "execution_count": 13,
   "metadata": {},
   "outputs": [
    {
     "data": {
      "text/plain": [
       "[<matplotlib.lines.Line2D at 0x237e950a6d0>]"
      ]
     },
     "execution_count": 13,
     "metadata": {},
     "output_type": "execute_result"
    },
    {
     "data": {
      "image/png": "[encoded data removed]",
      "text/plain": [
       "<Figure size 432x288 with 1 Axes>"
      ]
     },
     "metadata": {
      "needs_background": "light"
     },
     "output_type": "display_data"
    }
   ],
   "source": [
    "import matplotlib.pyplot as plt\n",
    "\n",
    "plt.plot([i[1]/vocab_len for i in vocab.most_common(len(vocab))][0:100])"
   ]
  },
  {
   "cell_type": "code",
   "execution_count": 14,
   "metadata": {},
   "outputs": [
    {
     "data": {
      "text/plain": [
       "('enthusiastic', 2)"
      ]
     },
     "execution_count": 14,
     "metadata": {},
     "output_type": "execute_result"
    }
   ],
   "source": [
    "vocab.most_common()[6280]"
   ]
  },
  {
   "cell_type": "code",
   "execution_count": 15,
   "metadata": {},
   "outputs": [],
   "source": [
    "min_word_counter = Counter(vocab.keys())"
   ]
  },
  {
   "cell_type": "code",
   "execution_count": 16,
   "metadata": {},
   "outputs": [],
   "source": [
    "vocab = vocab - min_word_counter"
   ]
  },
  {
   "cell_type": "code",
   "execution_count": 17,
   "metadata": {},
   "outputs": [
    {
     "data": {
      "text/plain": [
       "('defends', 1)"
      ]
     },
     "execution_count": 17,
     "metadata": {},
     "output_type": "execute_result"
    }
   ],
   "source": [
    "vocab.most_common(len(vocab))[-1]"
   ]
  },
  {
   "cell_type": "code",
   "execution_count": 18,
   "metadata": {},
   "outputs": [],
   "source": [
    "def replace_words(word_list):\n",
    "    new_list = [\"xxxbos\"]\n",
    "    for i in word_list:\n",
    "#         if i[0] == '\"':\n",
    "#             new_list += [\"xxxquote\"]\n",
    "        #check if in vocab\n",
    "        if i in vocab:\n",
    "            token = i\n",
    "        else:\n",
    "            token = \"xxxunk\"\n",
    "        if i == i.title():\n",
    "            new_list += [\"xxxcap\", token.lower()]\n",
    "        elif i[-1] == \".\":\n",
    "            new_list += [token[0:-1], \".\", \"xxxbos\"]\n",
    "        elif i[-1] == \",\":\n",
    "            new_list += [token[0:-1]]\n",
    "        elif i[-1] == '\"':\n",
    "            new_list += [token[0:-1,\"xxxquote\"]]\n",
    "        else:\n",
    "            new_list +=[i]\n",
    "    return new_list"
   ]
  },
  {
   "cell_type": "code",
   "execution_count": 19,
   "metadata": {},
   "outputs": [],
   "source": [
    "cleaned_train_corpus = create_corpus(\"ceasar.txt\")"
   ]
  },
  {
   "cell_type": "code",
   "execution_count": 20,
   "metadata": {},
   "outputs": [],
   "source": [
    "for paragraph in cleaned_train_corpus:\n",
    "    paragraph.words = replace_words(paragraph.pre_cleaned_words)"
   ]
  },
  {
   "cell_type": "code",
   "execution_count": 21,
   "metadata": {},
   "outputs": [
    {
     "name": "stdout",
     "output_type": "stream",
     "text": [
      "Doc2Vec(dbow,d100,n5,mc2,t6) vocabulary scanned & state initialized\n",
      "Doc2Vec(\"alpha=0.05\",dm/m,d100,n5,w10,mc2,t6) vocabulary scanned & state initialized\n",
      "Doc2Vec(dm/c,d100,n5,w5,mc2,t6) vocabulary scanned & state initialized\n",
      "Training Doc2Vec(dbow,d100,n5,mc2,t6)\n",
      "Training Doc2Vec(\"alpha=0.05\",dm/m,d100,n5,w10,mc2,t6)\n",
      "Training Doc2Vec(dm/c,d100,n5,w5,mc2,t6)\n",
      "\n",
      "Evaluating Doc2Vec(dbow,d100,n5,mc2,t6)+Doc2Vec(\"alpha=0.05\",dm/m,d100,n5,w10,mc2,t6)\n",
      "\n",
      "Evaluating Doc2Vec(dbow,d100,n5,mc2,t6)+Doc2Vec(dm/c,d100,n5,w5,mc2,t6)\n"
     ]
    }
   ],
   "source": [
    "import multiprocessing\n",
    "from collections import OrderedDict\n",
    "\n",
    "import gensim.models.doc2vec\n",
    "assert gensim.models.doc2vec.FAST_VERSION > -1, \"This will be painfully slow otherwise\"\n",
    "\n",
    "from gensim.models.doc2vec import Doc2Vec\n",
    "\n",
    "common_kwargs = dict(\n",
    "    vector_size=100, epochs=20, min_count=2,\n",
    "    sample=0, workers=multiprocessing.cpu_count(), negative=5, hs=0,\n",
    ")\n",
    "\n",
    "simple_models = [\n",
    "    # PV-DBOW plain\n",
    "    Doc2Vec(dm=0, **common_kwargs),\n",
    "    # PV-DM w/ default averaging; a higher starting alpha may improve CBOW/PV-DM modes\n",
    "    Doc2Vec(dm=1, window=10, alpha=0.05, comment='alpha=0.05', **common_kwargs),\n",
    "    # PV-DM w/ concatenation - big, slow, experimental mode\n",
    "    # window=5 (both sides) approximates paper's apparent 10-word total window size\n",
    "    Doc2Vec(dm=1, dm_concat=1, window=5, **common_kwargs),\n",
    "]\n",
    "\n",
    "for model in simple_models:\n",
    "    model.build_vocab(cleaned_train_corpus)\n",
    "    print(\"%s vocabulary scanned & state initialized\" % model)\n",
    "\n",
    "models_by_name = OrderedDict((str(model), model) for model in simple_models)\n",
    "\n",
    "from gensim.test.test_doc2vec import ConcatenatedDoc2Vec\n",
    "models_by_name['dbow+dmm'] = ConcatenatedDoc2Vec([simple_models[0], simple_models[1]])\n",
    "models_by_name['dbow+dmc'] = ConcatenatedDoc2Vec([simple_models[0], simple_models[2]])\n",
    "\n",
    "from random import shuffle\n",
    "shuffled_corpus = cleaned_train_corpus[:]\n",
    "shuffle(shuffled_corpus)\n",
    "\n",
    "for model in simple_models:\n",
    "    print(\"Training %s\" % model)\n",
    "    model.train(cleaned_train_corpus, total_examples=len(cleaned_train_corpus), epochs=model.epochs)\n",
    "\n",
    "for model in [models_by_name['dbow+dmm'], models_by_name['dbow+dmc']]:\n",
    "    print(\"\\nEvaluating %s\" % model)"
   ]
  },
  {
   "cell_type": "code",
   "execution_count": 22,
   "metadata": {},
   "outputs": [
    {
     "data": {
      "text/plain": [
       "<sqlite3.Cursor at 0x237e954ff10>"
      ]
     },
     "execution_count": 22,
     "metadata": {},
     "output_type": "execute_result"
    }
   ],
   "source": [
    "import sqlite3\n",
    "\n",
    "conn = sqlite3.connect(\":memory:\")\n",
    "cur = conn.cursor()\n",
    "cur.execute(\"CREATE TABLE paragraphs(words text, uuid text)\")\n",
    "cur.executemany(\"INSERT INTO paragraphs VALUES (?,?)\", [(\" \".join(i.pre_cleaned_words), i.tags[0]) for i in cleaned_train_corpus])\n"
   ]
  },
  {
   "cell_type": "code",
   "execution_count": 23,
   "metadata": {},
   "outputs": [
    {
     "name": "stdout",
     "output_type": "stream",
     "text": [
      "for doc 681...ac9363afc08611eaacc10c9d92106694\n",
      "We may for the most part consider as Cæsar’s laws those which were passed at his instigation, whether by the tribune P. Vatinius, or the prætor Q. Fufius Calenus.\n",
      "ac916955c08611ea98790c9d92106694 0.9819753170013428\n",
      "ac916957c08611eab2f00c9d92106694 0.9770715832710266\n",
      "ac920530c08611ea849a0c9d92106694 0.972644031047821\n",
      "_Palace of the Tuileries, March 20th, 1862._\n",
      "\n",
      "\n",
      "ac918f71c08611eab4d90c9d92106694 0.8567085862159729\n",
      "ac918f79c08611ea9cc40c9d92106694 0.8223661780357361\n",
      "ac93639bc08611eaab050c9d92106694 0.8123207092285156\n",
      "The kings had always sought to put a curb on these usurpations, and perhaps it was a similar attempt which cost Servius Tullius his life. But after the fall of the kingly power, the patricians, having become more powerful, determined to preserve the lands which they had unjustly seized.\n",
      "\n",
      "\n",
      "ac920550c08611eab6f90c9d92106694 0.9459874629974365\n",
      "ac916956c08611ea907d0c9d92106694 0.943191409111023\n",
      "ac922c35c08611eaa4e60c9d92106694 0.9423621892929077\n",
      "“How many struggles, how much blood, how many years will it not require to realise the good which I intended to do for mankind!”\n",
      "\n",
      "\n"
     ]
    }
   ],
   "source": [
    "import numpy as np\n",
    "doc_id = np.random.randint(simple_models[0].docvecs.count)  # Pick random doc; re-run cell for more examples\n",
    "tag = simple_models[0].docvecs.index_to_doctag(doc_id)\n",
    "print(f'for doc {doc_id}...{tag}')\n",
    "\n",
    "\n",
    "print(cur.execute(\"SELECT * FROM paragraphs WHERE uuid = (?)\", (tag,)).fetchone()[0])\n",
    "\n",
    "for model in simple_models:\n",
    "    most_similar = model.docvecs.most_similar(model.docvecs.index_to_doctag(doc_id), topn=3)\n",
    "    for i in most_similar:\n",
    "        print(i[0],i[1])\n",
    "    tag = most_similar[1][0]\n",
    "    print(cur.execute(\"SELECT * FROM paragraphs WHERE uuid = (?)\", (tag,)).fetchone()[0])\n",
    "    print(\"\\n\")"
   ]
  },
  {
   "cell_type": "code",
   "execution_count": 24,
   "metadata": {},
   "outputs": [],
   "source": [
    "for index,j in enumerate(cleaned_train_corpus):\n",
    "    try:\n",
    "        j.next_ = cleaned_train_corpus[index+1]    \n",
    "    except:\n",
    "        j.next = None\n",
    "for index,j in enumerate(cleaned_train_corpus[::-1]):\n",
    "    try:\n",
    "        j.prev = cleaned_train_corpus[::-1][index+1]    \n",
    "    except:\n",
    "        j.prev=None\n",
    "for i in cleaned_train_corpus:\n",
    "    i.depth = 0"
   ]
  },
  {
   "cell_type": "code",
   "execution_count": 25,
   "metadata": {},
   "outputs": [],
   "source": [
    "for index, paragraph in enumerate(cleaned_train_corpus[1:-1],start=1):\n",
    "    sim_prev = model.docvecs.similarity(paragraph.tags[0], paragraph.prev.tags[0])\n",
    "    sim_next_ = model.docvecs.similarity(paragraph.tags[0], paragraph.next_.tags[0])\n",
    "\n",
    "    if sim_prev >= sim_next_:\n",
    "        paragraph.depth +=1\n",
    "        paragraph.next_.depth = paragraph.depth\n",
    "    else:\n",
    "        search_depth = paragraph.depth\n",
    "        while search_depth > 0 :\n",
    "            p1 = paragraph.prev\n",
    "            p2 = p1.prev\n",
    "            while p2.depth -1 >= p1.depth:\n",
    "                p2 = p2.prev\n",
    "            sim_1 = model.docvecs.similarity(paragraph.tags[0], p1.tags[0])\n",
    "            sim_2 =  model.docvecs.similarity(paragraph.tags[0], p2.tags[0])\n",
    "            \n",
    "            if sim_2 > sim_1:\n",
    "                search_depth-=1\n",
    "                \n",
    "            else:\n",
    "                paragraph.depth = paragraph.prev.depth\n",
    "                search_depth =-1\n"
   ]
  },
  {
   "cell_type": "code",
   "execution_count": 26,
   "metadata": {},
   "outputs": [
    {
     "data": {
      "text/plain": [
       "(-0.14529522, 0.16695015)"
      ]
     },
     "execution_count": 26,
     "metadata": {},
     "output_type": "execute_result"
    }
   ],
   "source": [
    "sim_prev, sim_next_"
   ]
  },
  {
   "cell_type": "code",
   "execution_count": 27,
   "metadata": {},
   "outputs": [],
   "source": [
    "text = [asdict(i) for i in cleaned_train_corpus]"
   ]
  },
  {
   "cell_type": "code",
   "execution_count": 28,
   "metadata": {},
   "outputs": [],
   "source": [
    "for i in text:\n",
    "    i[\"pre_cleaned_words\"] = \" \".join(i[\"pre_cleaned_words\"])"
   ]
  },
  {
   "cell_type": "code",
   "execution_count": null,
   "metadata": {},
   "outputs": [],
   "source": []
  },
  {
   "cell_type": "code",
   "execution_count": 29,
   "metadata": {},
   "outputs": [],
   "source": [
    "import json\n",
    "with open(\"srv/static/caesar_part_1.json\",\"w\") as f:\n",
    "    json.dump({\"data\": text},f)"
   ]
  },
  {
   "cell_type": "code",
   "execution_count": null,
   "metadata": {},
   "outputs": [],
   "source": []
  }
 ],
 "metadata": {
  "kernelspec": {
   "display_name": "Python 3",
   "language": "python",
   "name": "python3"
  },
  "language_info": {
   "codemirror_mode": {
    "name": "ipython",
    "version": 3
   },
   "file_extension": ".py",
   "mimetype": "text/x-python",
   "name": "python",
   "nbconvert_exporter": "python",
   "pygments_lexer": "ipython3",
   "version": "3.8.2"
  }
 },
 "nbformat": 4,
 "nbformat_minor": 4
}
